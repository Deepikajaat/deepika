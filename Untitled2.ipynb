{
  "nbformat": 4,
  "nbformat_minor": 0,
  "metadata": {
    "colab": {
      "provenance": [],
      "authorship_tag": "ABX9TyPw4BJkLeyYdjQUEC2NqXtF",
      "include_colab_link": true
    },
    "kernelspec": {
      "name": "python3",
      "display_name": "Python 3"
    },
    "language_info": {
      "name": "python"
    }
  },
  "cells": [
    {
      "cell_type": "markdown",
      "metadata": {
        "id": "view-in-github",
        "colab_type": "text"
      },
      "source": [
        "<a href=\"https://colab.research.google.com/github/Deepikajaat/deepika/blob/main/Untitled2.ipynb\" target=\"_parent\"><img src=\"https://colab.research.google.com/assets/colab-badge.svg\" alt=\"Open In Colab\"/></a>"
      ]
    },
    {
      "cell_type": "code",
      "execution_count": 5,
      "metadata": {
        "colab": {
          "base_uri": "https://localhost:8080/",
          "height": 0
        },
        "id": "jnZE6j-ywlt4",
        "outputId": "882e0def-5691-4ae2-d623-9fd28a8474d8"
      },
      "outputs": [
        {
          "output_type": "stream",
          "name": "stdout",
          "text": [
            "deepika\n"
          ]
        }
      ],
      "source": [
        "age=17\n",
        "if(age>=18 ):\n",
        "\n",
        "  print(\"he can marry\")\n",
        "  print(\"hey\")\n",
        "print(\"deepika\")"
      ]
    },
    {
      "cell_type": "code",
      "source": [
        "country=\"india\"\n",
        "if(country==\"india\"):\n",
        "  print(\"eligilble\")\n",
        "else:\n",
        "  print(\"not eligible\")\n"
      ],
      "metadata": {
        "colab": {
          "base_uri": "https://localhost:8080/",
          "height": 0
        },
        "id": "A9_3N6GVxEX6",
        "outputId": "59fb397e-a59d-45c8-d675-f4e6561456b1"
      },
      "execution_count": 9,
      "outputs": [
        {
          "output_type": "stream",
          "name": "stdout",
          "text": [
            "eligilble\n"
          ]
        }
      ]
    },
    {
      "cell_type": "code",
      "source": [
        "doc1=\"adharcard\"\n",
        "doc2=\"pan\"\n",
        "if(doc1==\"adharcard\" and doc2==\"license\"):\n",
        "  print(\"entry granted\")\n",
        "else:\n",
        "  print(\"denied\")"
      ],
      "metadata": {
        "colab": {
          "base_uri": "https://localhost:8080/",
          "height": 0
        },
        "id": "yxa_uuR9y6Px",
        "outputId": "e1ad228b-699d-45ef-da72-c7c19d84eea2"
      },
      "execution_count": 11,
      "outputs": [
        {
          "output_type": "stream",
          "name": "stdout",
          "text": [
            "denied\n"
          ]
        }
      ]
    },
    {
      "cell_type": "code",
      "source": [
        "age=\"20\"\n",
        "if(age>=\"18\"):\n",
        "  print(\"vote eligible\")\n",
        "elif(age>=\"24\"):\n",
        "  print(\"canditate\")\n",
        "else:\n",
        "  print(\"kuch nahi\")"
      ],
      "metadata": {
        "colab": {
          "base_uri": "https://localhost:8080/",
          "height": 0
        },
        "id": "BPZnCzZFz-Zo",
        "outputId": "204cdcfc-25c5-43d7-f8d0-bcc1738d97df"
      },
      "execution_count": 14,
      "outputs": [
        {
          "output_type": "stream",
          "name": "stdout",
          "text": [
            "vote eligible\n"
          ]
        }
      ]
    },
    {
      "cell_type": "code",
      "source": [
        "x=\"2\"\n",
        "y=\"3\"\n",
        "z=\"4\"\n",
        "if(x<y and x<z):\n",
        "  print(\"{x} is the smallest\",(2))\n",
        "elif(y<x and y<z):\n",
        "  print(\"{y} is the smallest\",3)\n",
        "else:\n",
        "  print(\"{z} is the smallest\",4)\n"
      ],
      "metadata": {
        "colab": {
          "base_uri": "https://localhost:8080/",
          "height": 0
        },
        "id": "RnpBFDbq1l5V",
        "outputId": "f0ddca1d-c6d7-4ffa-967c-e24503f4e2c5"
      },
      "execution_count": 16,
      "outputs": [
        {
          "output_type": "stream",
          "name": "stdout",
          "text": [
            "{x} is the smallest 2\n"
          ]
        }
      ]
    },
    {
      "cell_type": "code",
      "source": [
        "age=\"10\"\n",
        "if(age==\"18\"):\n",
        "  print(\"young adult\")\n",
        "elif(\"25\"<age<\"34\"):\n",
        "  print(\"adult\")\n",
        "elif(\"34\"<age<\"60\"):\n",
        "  print(\"senior\")\n",
        "elif(age>=\"60\"):\n",
        "  print(\"senior citizen\")\n",
        "else:\n",
        "  print(\"child\")"
      ],
      "metadata": {
        "colab": {
          "base_uri": "https://localhost:8080/",
          "height": 0
        },
        "id": "DkU-38S63dQn",
        "outputId": "b51b836e-32f7-4482-e7a9-6d554d12f733"
      },
      "execution_count": 26,
      "outputs": [
        {
          "output_type": "stream",
          "name": "stdout",
          "text": [
            "child\n"
          ]
        }
      ]
    },
    {
      "cell_type": "code",
      "source": [
        "x=int(input(\"enter the number :\"))\n",
        "if(x==1):\n",
        "  print(\"monday\")\n",
        "elif(x==2):\n",
        "  print(\"tuesday\")\n",
        "elif(x==3):\n",
        "  print(\"wednesday\")\n",
        "elif(x==4):\n",
        "  print(\"thrusday\")\n",
        "elif(x==5):\n",
        "  print(\"friday\")\n",
        "elif(x==6):\n",
        "  print(\"saturday\")\n",
        "elif(x==7):\n",
        "  print(\"sunday\")\n",
        "else:\n",
        "  print(\"not valid \")"
      ],
      "metadata": {
        "colab": {
          "base_uri": "https://localhost:8080/",
          "height": 0
        },
        "id": "GjVQeSAA5XGZ",
        "outputId": "d104de39-1ca0-41ac-9236-406d43c34a81"
      },
      "execution_count": 30,
      "outputs": [
        {
          "output_type": "stream",
          "name": "stdout",
          "text": [
            "enter the number :2\n",
            "tuesday\n"
          ]
        }
      ]
    },
    {
      "cell_type": "code",
      "source": [
        "year=int(input(\"enter the year :\"))\n",
        "if(x//4==0):\n",
        "  print(\"year is a leap year\")\n",
        "else:\n",
        "  print(\"not a leap year\")\n"
      ],
      "metadata": {
        "colab": {
          "base_uri": "https://localhost:8080/",
          "height": 0
        },
        "id": "bbzpJ6-RFi5l",
        "outputId": "d8550420-abe2-4cb8-9eef-19ab23747093"
      },
      "execution_count": 35,
      "outputs": [
        {
          "output_type": "stream",
          "name": "stdout",
          "text": [
            "enter the year :2004\n",
            "year is a leap year\n"
          ]
        }
      ]
    },
    {
      "cell_type": "code",
      "source": [
        "x=int(input(\"enter any number :\"))\n",
        "if(x==1):\n",
        "  import os\n",
        "  path = \"c:/lucky\"\n",
        "  os.mkdir(\"path\")\n",
        "elif(x==2):\n",
        "  pathlib.path.rmdir()\n"
      ],
      "metadata": {
        "colab": {
          "base_uri": "https://localhost:8080/",
          "height": 228
        },
        "id": "xuzLe8GdHc16",
        "outputId": "430178d7-7f25-434a-ba6a-26748a59619a"
      },
      "execution_count": 39,
      "outputs": [
        {
          "name": "stdout",
          "output_type": "stream",
          "text": [
            "enter any number :1\n"
          ]
        },
        {
          "output_type": "error",
          "ename": "FileExistsError",
          "evalue": "[Errno 17] File exists: 'path'",
          "traceback": [
            "\u001b[0;31m---------------------------------------------------------------------------\u001b[0m",
            "\u001b[0;31mFileExistsError\u001b[0m                           Traceback (most recent call last)",
            "\u001b[0;32m<ipython-input-39-df530e2697ad>\u001b[0m in \u001b[0;36m<cell line: 2>\u001b[0;34m()\u001b[0m\n\u001b[1;32m      3\u001b[0m   \u001b[0;32mimport\u001b[0m \u001b[0mos\u001b[0m\u001b[0;34m\u001b[0m\u001b[0;34m\u001b[0m\u001b[0m\n\u001b[1;32m      4\u001b[0m   \u001b[0mpath\u001b[0m \u001b[0;34m=\u001b[0m \u001b[0;34m\"c:/lucky\"\u001b[0m\u001b[0;34m\u001b[0m\u001b[0;34m\u001b[0m\u001b[0m\n\u001b[0;32m----> 5\u001b[0;31m   \u001b[0mos\u001b[0m\u001b[0;34m.\u001b[0m\u001b[0mmkdir\u001b[0m\u001b[0;34m(\u001b[0m\u001b[0;34m\"path\"\u001b[0m\u001b[0;34m)\u001b[0m\u001b[0;34m\u001b[0m\u001b[0;34m\u001b[0m\u001b[0m\n\u001b[0m\u001b[1;32m      6\u001b[0m \u001b[0;32melif\u001b[0m\u001b[0;34m(\u001b[0m\u001b[0mx\u001b[0m\u001b[0;34m==\u001b[0m\u001b[0;36m2\u001b[0m\u001b[0;34m)\u001b[0m\u001b[0;34m:\u001b[0m\u001b[0;34m\u001b[0m\u001b[0;34m\u001b[0m\u001b[0m\n\u001b[1;32m      7\u001b[0m   \u001b[0mpathlib\u001b[0m\u001b[0;34m.\u001b[0m\u001b[0mpath\u001b[0m\u001b[0;34m.\u001b[0m\u001b[0mrmdir\u001b[0m\u001b[0;34m(\u001b[0m\u001b[0;34m)\u001b[0m\u001b[0;34m\u001b[0m\u001b[0;34m\u001b[0m\u001b[0m\n",
            "\u001b[0;31mFileExistsError\u001b[0m: [Errno 17] File exists: 'path'"
          ]
        }
      ]
    },
    {
      "cell_type": "code",
      "source": [
        "import os\n",
        "x=int(input(\"enter a number :\"))\n",
        "os.chdir"
      ],
      "metadata": {
        "id": "nw6wPRT_PPxv"
      },
      "execution_count": null,
      "outputs": []
    }
  ]
}